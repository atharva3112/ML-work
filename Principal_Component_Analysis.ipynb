{
  "nbformat": 4,
  "nbformat_minor": 0,
  "metadata": {
    "colab": {
      "name": "Principal_Component_Analysis.ipynb",
      "version": "0.3.2",
      "provenance": [],
      "include_colab_link": true
    },
    "kernelspec": {
      "display_name": "Python 2",
      "language": "python",
      "name": "python2"
    }
  },
  "cells": [
    {
      "cell_type": "markdown",
      "metadata": {
        "id": "view-in-github",
        "colab_type": "text"
      },
      "source": [
        "<a href=\"https://colab.research.google.com/github/atharva3112/Machine-Learning/blob/master/Principal_Component_Analysis.ipynb\" target=\"_parent\"><img src=\"https://colab.research.google.com/assets/colab-badge.svg\" alt=\"Open In Colab\"/></a>"
      ]
    },
    {
      "metadata": {
        "id": "MXHCPqNyimSD",
        "colab_type": "code",
        "colab": {}
      },
      "cell_type": "code",
      "source": [
        "import numpy as np\n",
        "import matplotlib.pyplot as plt\n",
        "%matplotlib inline\n",
        "import pandas as pd"
      ],
      "execution_count": 0,
      "outputs": []
    },
    {
      "metadata": {
        "id": "levXtSKbimSL",
        "colab_type": "code",
        "outputId": "ee9a5a15-0aa9-4335-fa82-fe00bffe9003",
        "colab": {}
      },
      "cell_type": "code",
      "source": [
        "##Generate Dataset and Center it\n",
        "mean_01 = np.array([0.0, 0.0])\n",
        "cov_01 = np.array([[1.2, 1.5], [1.5, 1.4]])\n",
        "\n",
        "data = np.random.multivariate_normal(mean_01, cov_01, 800)\n",
        "print data.shape"
      ],
      "execution_count": 0,
      "outputs": [
        {
          "output_type": "stream",
          "text": [
            "(800, 2)\n"
          ],
          "name": "stdout"
        },
        {
          "output_type": "stream",
          "text": [
            "/usr/local/lib/python2.7/dist-packages/ipykernel/__main__.py:5: RuntimeWarning: covariance is not positive-semidefinite.\n"
          ],
          "name": "stderr"
        }
      ]
    },
    {
      "metadata": {
        "id": "2v94yMjKimST",
        "colab_type": "code",
        "colab": {}
      },
      "cell_type": "code",
      "source": [
        "def pca(X, m=None):\n",
        "    if m==None:\n",
        "        m = X.shape[1] ## m==d\n",
        "    \n",
        "    ## Compute the Covariance Matrix\n",
        "    A = np.cov(X.T)\n",
        "    \n",
        "    ##EigenValues and EigenVectors -> Principal Components and Their Variability\n",
        "    eig_vals, eig_vecs = np.linalg.eig(A)\n",
        "    \n",
        "    ##Projection of points to the new coordinates\n",
        "    Z = X.dot(eig_vecs)\n",
        "    \n",
        "    return eig_vals, eig_vecs, Z"
      ],
      "execution_count": 0,
      "outputs": []
    },
    {
      "metadata": {
        "id": "MYACMee4imSZ",
        "colab_type": "code",
        "outputId": "aed8ef53-33c8-43c2-a92f-cf4b1992aae0",
        "colab": {}
      },
      "cell_type": "code",
      "source": [
        "eig_vals, eig_vecs, Z = pca(data)\n",
        "print eig_vals.shape\n",
        "print eig_vecs.shape\n",
        "print Z.shape\n",
        "\n",
        "print eig_vals\n",
        "print eig_vecs\n",
        "print \"---------\"\n",
        "print eig_vecs[0]"
      ],
      "execution_count": 0,
      "outputs": [
        {
          "output_type": "stream",
          "text": [
            "(2,)\n",
            "(2, 2)\n",
            "(800, 2)\n",
            "[ 0.1958402   2.77275453]\n",
            "[[-0.71863001 -0.69539262]\n",
            " [ 0.69539262 -0.71863001]]\n",
            "---------\n",
            "[-0.71863001 -0.69539262]\n"
          ],
          "name": "stdout"
        }
      ]
    },
    {
      "metadata": {
        "id": "LFftMlK9imSf",
        "colab_type": "code",
        "outputId": "46a5fe06-d290-4cfa-be40-f9dcf0a08d90",
        "colab": {}
      },
      "cell_type": "code",
      "source": [
        "info = []\n",
        "for ix in range(eig_vals.shape[0]):\n",
        "    dx = [eig_vals[ix], eig_vecs[:, ix]]\n",
        "    info.append(dx)\n",
        "print info\n",
        "print \"---------\"\n",
        "print len(info)"
      ],
      "execution_count": 0,
      "outputs": [
        {
          "output_type": "stream",
          "text": [
            "[[0.19584020041871741, array([-0.71863001,  0.69539262])], [2.7727545257664921, array([-0.69539262, -0.71863001])]]\n",
            "---------\n",
            "2\n"
          ],
          "name": "stdout"
        }
      ]
    },
    {
      "metadata": {
        "id": "2r8W1_n_imSm",
        "colab_type": "code",
        "outputId": "ca8582bd-aed5-4953-9746-4bd3e1d73aba",
        "colab": {}
      },
      "cell_type": "code",
      "source": [
        "info = sorted(info, key=lambda z:z[0], reverse=True)\n",
        "print info"
      ],
      "execution_count": 0,
      "outputs": [
        {
          "output_type": "stream",
          "text": [
            "[[2.7727545257664921, array([-0.69539262, -0.71863001])], [0.19584020041871741, array([-0.71863001,  0.69539262])]]\n"
          ],
          "name": "stdout"
        }
      ]
    },
    {
      "metadata": {
        "id": "s3oonPTOimSu",
        "colab_type": "code",
        "colab": {}
      },
      "cell_type": "code",
      "source": [
        "sorted_vals = []\n",
        "sorted_vecs = []\n",
        "for ix in range(len(info)):\n",
        "    sorted_vals.append(info[ix][0])\n",
        "    sorted_vecs.append(info[ix][1])\n",
        "sorted_vals = np.asarray(sorted_vals)\n",
        "sorted_vecs = np.asarray(sorted_vecs)"
      ],
      "execution_count": 0,
      "outputs": []
    },
    {
      "metadata": {
        "id": "2DMMxEB8imSy",
        "colab_type": "code",
        "outputId": "36830be3-07c6-4a8b-b21f-7aeedf8ca9d1",
        "colab": {}
      },
      "cell_type": "code",
      "source": [
        "explained_variances_ratio = sorted_vals/sum(sorted_vals)\n",
        "print explained_variances_ratio"
      ],
      "execution_count": 0,
      "outputs": [
        {
          "output_type": "stream",
          "text": [
            "[ 0.93402932  0.06597068]\n"
          ],
          "name": "stdout"
        }
      ]
    },
    {
      "metadata": {
        "id": "svcUWbzTimS7",
        "colab_type": "code",
        "colab": {}
      },
      "cell_type": "code",
      "source": [
        "# ON MNIST DATA"
      ],
      "execution_count": 0,
      "outputs": []
    },
    {
      "metadata": {
        "id": "JEfR2FKBimTB",
        "colab_type": "code",
        "outputId": "f70a36f8-01b1-431c-8a09-5414093c8fcb",
        "colab": {}
      },
      "cell_type": "code",
      "source": [
        "data = pd.read_csv('../../mnist_train.csv').values[:10000, 1:]\n",
        "print data.shape"
      ],
      "execution_count": 0,
      "outputs": [
        {
          "output_type": "stream",
          "text": [
            "(10000, 784)\n"
          ],
          "name": "stdout"
        }
      ]
    },
    {
      "metadata": {
        "id": "UDwxHfyJimTG",
        "colab_type": "code",
        "outputId": "5d73c0d2-2ce1-40c2-c1a6-c561d28183e0",
        "colab": {}
      },
      "cell_type": "code",
      "source": [
        "eig_vals, eig_vecs, Z = pca(data)\n",
        "print eig_vals.shape\n",
        "print eig_vecs.shape\n",
        "print Z.shape"
      ],
      "execution_count": 0,
      "outputs": [
        {
          "output_type": "stream",
          "text": [
            "(784,)\n",
            "(784, 784)\n",
            "(10000, 784)\n"
          ],
          "name": "stdout"
        }
      ]
    },
    {
      "metadata": {
        "id": "LdHvUhNYimTM",
        "colab_type": "code",
        "outputId": "ce0ad6f0-d5fc-40e5-be09-0210f35ec6b8",
        "colab": {}
      },
      "cell_type": "code",
      "source": [
        "info = []\n",
        "for ix in range(eig_vals.shape[0]):\n",
        "    dx = [eig_vals[ix], eig_vecs[:, ix]]\n",
        "    info.append(dx)\n",
        "#print info\n",
        "#print \"---------\"\n",
        "print len(info)"
      ],
      "execution_count": 0,
      "outputs": [
        {
          "output_type": "stream",
          "text": [
            "784\n"
          ],
          "name": "stdout"
        }
      ]
    },
    {
      "metadata": {
        "id": "xT59BFLCimTS",
        "colab_type": "code",
        "colab": {}
      },
      "cell_type": "code",
      "source": [
        "info = sorted(info, key=lambda z:z[0], reverse=True)"
      ],
      "execution_count": 0,
      "outputs": []
    },
    {
      "metadata": {
        "id": "VKzS8Nx-imTY",
        "colab_type": "code",
        "colab": {}
      },
      "cell_type": "code",
      "source": [
        "sorted_vals = []\n",
        "sorted_vecs = []\n",
        "for ix in range(len(info)):\n",
        "    sorted_vals.append(info[ix][0])\n",
        "    sorted_vecs.append(info[ix][1])\n",
        "sorted_vals = np.asarray(sorted_vals)\n",
        "sorted_vecs = np.asarray(sorted_vecs)"
      ],
      "execution_count": 0,
      "outputs": []
    },
    {
      "metadata": {
        "id": "BsuuaxSDimTd",
        "colab_type": "code",
        "outputId": "70511a94-da31-4fce-f6a7-37141e961695",
        "colab": {}
      },
      "cell_type": "code",
      "source": [
        "print sorted_vals.shape\n",
        "print sorted_vecs.shape\n",
        "\n",
        "explained_variances_ratio = sorted_vals/sum(sorted_vals)"
      ],
      "execution_count": 0,
      "outputs": [
        {
          "output_type": "stream",
          "text": [
            "(784,)\n",
            "(784, 784)\n"
          ],
          "name": "stdout"
        }
      ]
    },
    {
      "metadata": {
        "id": "CYxNXVaMimTk",
        "colab_type": "code",
        "outputId": "d355addb-4ab5-4749-f4e1-5d74198c241b",
        "colab": {}
      },
      "cell_type": "code",
      "source": [
        "plt.plot(np.cumsum(explained_variances_ratio)/explained_variances_ratio.sum())\n",
        "plt.show()"
      ],
      "execution_count": 0,
      "outputs": [
        {
          "output_type": "display_data",
          "data": {
            "image/png": "[encoded data removed]",
            "text/plain": [
              "<matplotlib.figure.Figure at 0x7f37cdc5d5d0>"
            ]
          },
          "metadata": {
            "tags": []
          }
        }
      ]
    },
    {
      "metadata": {
        "id": "UyiNTyNkimTr",
        "colab_type": "code",
        "colab": {}
      },
      "cell_type": "code",
      "source": [
        ""
      ],
      "execution_count": 0,
      "outputs": []
    }
  ]
}